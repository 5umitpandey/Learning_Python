{
 "cells": [
  {
   "cell_type": "markdown",
   "metadata": {},
   "source": [
    "<H3> Testing"
   ]
  },
  {
   "cell_type": "code",
   "execution_count": 1,
   "metadata": {},
   "outputs": [
    {
     "data": {
      "text/plain": [
       "float"
      ]
     },
     "execution_count": 1,
     "metadata": {},
     "output_type": "execute_result"
    }
   ],
   "source": [
    "type(20.0)"
   ]
  },
  {
   "cell_type": "code",
   "execution_count": 2,
   "metadata": {},
   "outputs": [],
   "source": [
    "a = ['Sumit', 18, True]"
   ]
  },
  {
   "cell_type": "code",
   "execution_count": 4,
   "metadata": {},
   "outputs": [
    {
     "data": {
      "text/plain": [
       "bool"
      ]
     },
     "execution_count": 4,
     "metadata": {},
     "output_type": "execute_result"
    }
   ],
   "source": [
    "type(a[2])"
   ]
  },
  {
   "cell_type": "markdown",
   "metadata": {},
   "source": [
    "<H3>TUPLE"
   ]
  },
  {
   "cell_type": "code",
   "execution_count": 5,
   "metadata": {},
   "outputs": [],
   "source": [
    "pint_log = {1, 2, 5, 8, 9 , 0, 3, 11, 13}\n",
    "wife_pint_log = {1, 5, 8, 3, 4, 11,  15}"
   ]
  },
  {
   "cell_type": "code",
   "execution_count": 6,
   "metadata": {},
   "outputs": [
    {
     "name": "stdout",
     "output_type": "stream",
     "text": [
      "{0, 1, 2, 3, 4, 5, 8, 9, 11, 13, 15}\n"
     ]
    }
   ],
   "source": [
    "#PRINTS UNIQUE VALUES OF BOTH TUPLE (A U B)\n",
    "print(pint_log | wife_pint_log)"
   ]
  },
  {
   "cell_type": "code",
   "execution_count": 7,
   "metadata": {},
   "outputs": [
    {
     "name": "stdout",
     "output_type": "stream",
     "text": [
      "{1, 3, 5, 8, 11}\n"
     ]
    }
   ],
   "source": [
    "#PRINTS COMMON VALUES OF BOTH TUPLE (A ∩ B)\n",
    "print(pint_log & wife_pint_log)"
   ]
  },
  {
   "cell_type": "code",
   "execution_count": 8,
   "metadata": {},
   "outputs": [
    {
     "name": "stdout",
     "output_type": "stream",
     "text": [
      "{0, 9, 2, 13}\n"
     ]
    }
   ],
   "source": [
    "#PRINTS NOT COMMON VALUES OF BOTH TUPLE (A - B)\n",
    "print(pint_log - wife_pint_log)"
   ]
  },
  {
   "cell_type": "code",
   "execution_count": 9,
   "metadata": {},
   "outputs": [
    {
     "name": "stdout",
     "output_type": "stream",
     "text": [
      "{0, 2, 4, 9, 13, 15}\n"
     ]
    }
   ],
   "source": [
    "#PRINTS VALUES OF EITHER IN ONE BUT NOT IN BOTH (A + B - (A ∩ B))\n",
    "print(pint_log ^ wife_pint_log)"
   ]
  },
  {
   "cell_type": "markdown",
   "metadata": {},
   "source": [
    "<H3> DICTIONARY </H3>\n",
    "\n",
    "Key-value Pair\n"
   ]
  },
  {
   "cell_type": "code",
   "execution_count": 19,
   "metadata": {},
   "outputs": [],
   "source": [
    "SumitData = {'Name':'Sumit', 'Age':18, 'Place':'Pune'}"
   ]
  },
  {
   "cell_type": "code",
   "execution_count": 14,
   "metadata": {},
   "outputs": [
    {
     "data": {
      "text/plain": [
       "dict_values(['Sumit', 18, 'Pune'])"
      ]
     },
     "execution_count": 14,
     "metadata": {},
     "output_type": "execute_result"
    }
   ],
   "source": [
    "#print only values\n",
    "SumitData.values()"
   ]
  },
  {
   "cell_type": "code",
   "execution_count": 15,
   "metadata": {},
   "outputs": [
    {
     "data": {
      "text/plain": [
       "'Sumit'"
      ]
     },
     "execution_count": 15,
     "metadata": {},
     "output_type": "execute_result"
    }
   ],
   "source": [
    "#call by key\n",
    "SumitData['Name']"
   ]
  },
  {
   "cell_type": "code",
   "execution_count": 20,
   "metadata": {},
   "outputs": [
    {
     "data": {
      "text/plain": [
       "{'Name': 'Sumit Pandey', 'Age': 18, 'Place': 'Pune'}"
      ]
     },
     "execution_count": 20,
     "metadata": {},
     "output_type": "execute_result"
    }
   ],
   "source": [
    "#update values\n",
    "SumitData['Name'] = 'Sumit Pandey'\n",
    "SumitData"
   ]
  },
  {
   "cell_type": "code",
   "execution_count": 21,
   "metadata": {},
   "outputs": [
    {
     "name": "stdout",
     "output_type": "stream",
     "text": [
      "{'Name': 'Sumit', 'Age': 18, 'Place': 'Pune', 'School': 'Raigarh'}\n"
     ]
    }
   ],
   "source": [
    "#update all at once\n",
    "#doesnt deletes the existing data by updating\n",
    "SumitData.update({'Name':'Sumit', 'Age':18, 'School':'Raigarh'})\n",
    "print(SumitData)"
   ]
  },
  {
   "cell_type": "code",
   "execution_count": 22,
   "metadata": {},
   "outputs": [
    {
     "data": {
      "text/plain": [
       "{'Name': 'Sumit', 'Age': 18, 'Place': 'Pune'}"
      ]
     },
     "execution_count": 22,
     "metadata": {},
     "output_type": "execute_result"
    }
   ],
   "source": [
    "#use del to delete\n",
    "del SumitData['School']\n",
    "SumitData"
   ]
  },
  {
   "cell_type": "markdown",
   "metadata": {},
   "source": [
    "<H3>FOR LOOP"
   ]
  },
  {
   "cell_type": "code",
   "execution_count": 25,
   "metadata": {},
   "outputs": [
    {
     "name": "stdout",
     "output_type": "stream",
     "text": [
      "1\n",
      "2\n",
      "3\n",
      "4\n",
      "5\n",
      "6\n"
     ]
    }
   ],
   "source": [
    "num = [1,2,3,4,5,6]\n",
    "\n",
    "for i in num:\n",
    "    print(i)"
   ]
  },
  {
   "cell_type": "code",
   "execution_count": 26,
   "metadata": {},
   "outputs": [
    {
     "name": "stdout",
     "output_type": "stream",
     "text": [
      "Sumit\n",
      "18\n",
      "Pune\n"
     ]
    }
   ],
   "source": [
    "#working with dict and for loop using values()\n",
    "\n",
    "for i in SumitData.values():\n",
    "    print(i)"
   ]
  },
  {
   "cell_type": "code",
   "execution_count": 29,
   "metadata": {},
   "outputs": [
    {
     "name": "stdout",
     "output_type": "stream",
     "text": [
      "('Name', 'Sumit')\n",
      "('Age', 18)\n",
      "('Place', 'Pune')\n",
      "Name  ->  Sumit\n",
      "Age  ->  18\n",
      "Place  ->  Pune\n"
     ]
    }
   ],
   "source": [
    "#working with dict and for loop using items()\n",
    "\n",
    "for i in SumitData.items():\n",
    "    print(i)\n",
    "\n",
    "#OR\n",
    "\n",
    "for key, value in SumitData.items():\n",
    "    print(key, ' -> ', value)\n"
   ]
  },
  {
   "cell_type": "markdown",
   "metadata": {},
   "source": [
    "<H3> Arbitrary arguments"
   ]
  },
  {
   "cell_type": "code",
   "execution_count": 30,
   "metadata": {},
   "outputs": [],
   "source": [
    "def number_args(*number):\n",
    "    print(number[0] * number[1])"
   ]
  },
  {
   "cell_type": "code",
   "execution_count": 32,
   "metadata": {},
   "outputs": [
    {
     "name": "stdout",
     "output_type": "stream",
     "text": [
      "30\n"
     ]
    }
   ],
   "source": [
    "#args with a list\n",
    "number_args(5,6,2,0)"
   ]
  },
  {
   "cell_type": "code",
   "execution_count": 35,
   "metadata": {},
   "outputs": [
    {
     "name": "stdout",
     "output_type": "stream",
     "text": [
      "30\n"
     ]
    }
   ],
   "source": [
    "#args with a tuple\n",
    "tuplee_nums = (5,6,2,0)\n",
    "number_args(*tuplee_nums)\n",
    "\n",
    "# * IS IMPORTANT"
   ]
  },
  {
   "cell_type": "code",
   "execution_count": 42,
   "metadata": {},
   "outputs": [],
   "source": [
    "#Keyword arguments\n",
    "def number_kwarg(**number):\n",
    "    print('My number is ' + number['integer1'] + ', my other number is ' + number['integer2'])"
   ]
  },
  {
   "cell_type": "code",
   "execution_count": 43,
   "metadata": {},
   "outputs": [
    {
     "name": "stdout",
     "output_type": "stream",
     "text": [
      "My number is 2309, my other number is 349\n"
     ]
    }
   ],
   "source": [
    "number_kwarg(integer1 = '2309', integer2 = '349')"
   ]
  },
  {
   "cell_type": "markdown",
   "metadata": {},
   "source": [
    "<H3> Converting Data Types"
   ]
  },
  {
   "cell_type": "code",
   "execution_count": 2,
   "metadata": {},
   "outputs": [
    {
     "data": {
      "text/plain": [
       "14"
      ]
     },
     "execution_count": 2,
     "metadata": {},
     "output_type": "execute_result"
    }
   ],
   "source": [
    "num_int = 7\n",
    "num_str = '7'\n",
    "\n",
    "num_int +  int(num_str)"
   ]
  },
  {
   "cell_type": "code",
   "execution_count": 15,
   "metadata": {},
   "outputs": [],
   "source": [
    "list_list = [1, 2, 3, 4, 4, 3, 2]\n",
    "tuple_tuple = (1, 2, 3, 5, 1, 2, 3)"
   ]
  },
  {
   "cell_type": "code",
   "execution_count": 17,
   "metadata": {},
   "outputs": [
    {
     "data": {
      "text/plain": [
       "{1, 2, 3, 5}"
      ]
     },
     "execution_count": 17,
     "metadata": {},
     "output_type": "execute_result"
    }
   ],
   "source": [
    "tuple(list_list) + (tuple_tuple) #()\n",
    "list_list + list(tuple_tuple)    #[]\n",
    "set(list_list)                   #{}\n",
    "set(tuple_tuple)                 #{}"
   ]
  },
  {
   "cell_type": "code",
   "execution_count": 26,
   "metadata": {},
   "outputs": [
    {
     "data": {
      "text/plain": [
       "('name', 'age', 'place')"
      ]
     },
     "execution_count": 26,
     "metadata": {},
     "output_type": "execute_result"
    }
   ],
   "source": [
    "dict_dict = {'name':'Sam', 'age': 22, 'place':'Delhi', 'place': 'pune'}\n",
    "\n",
    "list(dict_dict.keys())          #[]\n",
    "tuple(dict_dict.keys())         #()\n",
    "#set(dict_dict.keys())           #{}"
   ]
  },
  {
   "cell_type": "code",
   "execution_count": 27,
   "metadata": {},
   "outputs": [
    {
     "data": {
      "text/plain": [
       "dict_values(['Sam', 22, 'pune'])"
      ]
     },
     "execution_count": 27,
     "metadata": {},
     "output_type": "execute_result"
    }
   ],
   "source": [
    "dict_dict.values()\n",
    "#'pune' has replaced 'Delhi'"
   ]
  },
  {
   "cell_type": "code",
   "execution_count": 35,
   "metadata": {},
   "outputs": [
    {
     "name": "stdout",
     "output_type": "stream",
     "text": [
      "  ['m', 'y', ' ', 'n', 'a', 'm', 'e', ' ', 'i', 's', ' ', 'a', 'n', 't', 'h', 'o', 'n', 'y', ' ', 'g', 'o', 'n', 's', 'a', 'l', 'v', 'e', 's']\n"
     ]
    }
   ],
   "source": [
    "long_str = 'my name is anthony gonsalves'\n",
    "print(' ',list(long_str)) #[]"
   ]
  },
  {
   "cell_type": "code",
   "execution_count": 29,
   "metadata": {},
   "outputs": [
    {
     "data": {
      "text/plain": [
       "{' ', 'a', 'e', 'g', 'h', 'i', 'l', 'm', 'n', 'o', 's', 't', 'v', 'y'}"
      ]
     },
     "execution_count": 29,
     "metadata": {},
     "output_type": "execute_result"
    }
   ],
   "source": [
    "set(long_str) #{}"
   ]
  }
 ],
 "metadata": {
  "kernelspec": {
   "display_name": "base",
   "language": "python",
   "name": "python3"
  },
  "language_info": {
   "codemirror_mode": {
    "name": "ipython",
    "version": 3
   },
   "file_extension": ".py",
   "mimetype": "text/x-python",
   "name": "python",
   "nbconvert_exporter": "python",
   "pygments_lexer": "ipython3",
   "version": "undefined.undefined.undefined"
  },
  "orig_nbformat": 4
 },
 "nbformat": 4,
 "nbformat_minor": 2
}
