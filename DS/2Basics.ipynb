{
 "cells": [
  {
   "cell_type": "markdown",
   "metadata": {},
   "source": [
    "<H3> Automatic File Sorted In File Explorer Acc To Type Of The File"
   ]
  },
  {
   "cell_type": "code",
   "execution_count": 2,
   "metadata": {},
   "outputs": [],
   "source": [
    "import os, shutil"
   ]
  },
  {
   "cell_type": "code",
   "execution_count": 9,
   "metadata": {},
   "outputs": [],
   "source": [
    "path = r\"D:/SM/Python/SortFilesIntoFolder_Python_Tutorial/\"\n",
    "\n",
    "#raw string is important (r\"\"\")"
   ]
  },
  {
   "cell_type": "code",
   "execution_count": 29,
   "metadata": {},
   "outputs": [
    {
     "name": "stdout",
     "output_type": "stream",
     "text": [
      "['csv_files', 'IMG_0018.jpg', 'img_files', 'New Text Document.txt', 'Sample-Spreadsheet-10-rows.csv', 'text_files']\n"
     ]
    }
   ],
   "source": [
    "os.listdir(path)\n",
    "\n",
    "file_name = os.listdir(path)\n",
    "\n",
    "print(file_name)\n",
    "\n",
    "#showing what files we have in the path"
   ]
  },
  {
   "cell_type": "code",
   "execution_count": 19,
   "metadata": {},
   "outputs": [],
   "source": [
    "#create folder based on the types of files we have\n",
    "folder_names = ['csv_files', 'text_files', 'img_files']\n",
    "\n",
    "for i in range(0,3):\n",
    "    if not os.path.exists(path + folder_names[i]):\n",
    "        os.makedirs(path + folder_names[i])\n",
    "\n",
    "#makedirs for creating folder name"
   ]
  },
  {
   "cell_type": "code",
   "execution_count": 26,
   "metadata": {},
   "outputs": [],
   "source": [
    "#move files based on their types to their desired folders\n",
    "\n",
    "for file in file_name:\n",
    "    if \".csv\" in file and not os.path.exists( path + \"csv_files/\" + file):\n",
    "        shutil.move(path + file, path + \"csv_files/\" + file)\n",
    "    elif \".jpg\" in file and not os.path.exists( path + \"img_files/\" + file):\n",
    "        shutil.move(path + file, path + \"img_files/\" + file)\n",
    "    elif \".txt\" in file and not os.path.exists( path + \"text_files/\" + file):\n",
    "        shutil.move(path + file, path + \"text_files/\" + file)\n",
    "\n",
    "#shutil.move to move files        "
   ]
  },
  {
   "cell_type": "code",
   "execution_count": null,
   "metadata": {},
   "outputs": [],
   "source": []
  }
 ],
 "metadata": {
  "kernelspec": {
   "display_name": "tf",
   "language": "python",
   "name": "python3"
  },
  "language_info": {
   "codemirror_mode": {
    "name": "ipython",
    "version": 3
   },
   "file_extension": ".py",
   "mimetype": "text/x-python",
   "name": "python",
   "nbconvert_exporter": "python",
   "pygments_lexer": "ipython3",
   "version": "3.10.4"
  }
 },
 "nbformat": 4,
 "nbformat_minor": 2
}
